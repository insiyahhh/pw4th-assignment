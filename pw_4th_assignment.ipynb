{
  "nbformat": 4,
  "nbformat_minor": 0,
  "metadata": {
    "colab": {
      "provenance": []
    },
    "kernelspec": {
      "name": "python3",
      "display_name": "Python 3"
    },
    "language_info": {
      "name": "python"
    }
  },
  "cells": [
    {
      "cell_type": "code",
      "execution_count": null,
      "metadata": {
        "id": "uUT0G3VH9_1A"
      },
      "outputs": [],
      "source": [
        "#theory"
      ]
    },
    {
      "cell_type": "markdown",
      "source": [
        "answer1:- oop is a programmung language that uses object and classes to structure software"
      ],
      "metadata": {
        "id": "rBpEPvKh-LP_"
      }
    },
    {
      "cell_type": "markdown",
      "source": [
        "answer2:- a class is a template that defines the properties or attributes"
      ],
      "metadata": {
        "id": "fbhY4tL0-2gl"
      }
    },
    {
      "cell_type": "markdown",
      "source": [
        "answer 3:-an object is an instance of a class ,it represents real world entity with its own attributes"
      ],
      "metadata": {
        "id": "bUE4l4ig_Ldr"
      }
    },
    {
      "cell_type": "markdown",
      "source": [
        "answer 4:- abstraction hides complex implementation details ,showing only neceesary information\n",
        "encapsulation bundles data and methods that operate on that data within that unit"
      ],
      "metadata": {
        "id": "T7DHhdT3_gJT"
      }
    },
    {
      "cell_type": "markdown",
      "source": [
        "answe 5:-dunder methods are special methods in python that are surrounded by diuble underscores\n",
        "they are used for special operations"
      ],
      "metadata": {
        "id": "kUiTK9pvABLR"
      }
    },
    {
      "cell_type": "markdown",
      "source": [
        "answer 6:-it allows to inherit properties from other class"
      ],
      "metadata": {
        "id": "ROj2A1ljAg69"
      }
    },
    {
      "cell_type": "markdown",
      "source": [
        "answer 7:- polymorphism is the ability of an object to take on multiple forms"
      ],
      "metadata": {
        "id": "VNz8D-b6Atkh"
      }
    },
    {
      "cell_type": "markdown",
      "source": [
        "answer8:-encapsulation in python is achieved by using private variable and providing methods to access and modify these variables"
      ],
      "metadata": {
        "id": "g6kJMgu9BAyQ"
      }
    },
    {
      "cell_type": "markdown",
      "source": [
        "answer9:- construct is a method that is called when an object is instantained"
      ],
      "metadata": {
        "id": "01ftXP_oBXqT"
      }
    },
    {
      "cell_type": "markdown",
      "source": [
        "answer 10:-class method are bound to the class and not the instance\n",
        "static methods belong to class rather than an instance and do not take self argument"
      ],
      "metadata": {
        "id": "jSIltI5QBjWc"
      }
    },
    {
      "cell_type": "markdown",
      "source": [
        "answer`11:-python does not support method overloadingin the traditional sense .it can be achieveed using default argument values or variable lenght argument list"
      ],
      "metadata": {
        "id": "kUNsLfOtB_rM"
      }
    },
    {
      "cell_type": "markdown",
      "source": [
        "answe 12:-method overriding occurs when the subclass provides a different impletation of a method that is already defined in its superclass"
      ],
      "metadata": {
        "id": "ozhxCHX7CZX8"
      }
    },
    {
      "cell_type": "markdown",
      "source": [
        "answer 13:-the property decorator allows a method to be called like an attribute.it is used to implement getters,setters,deleters for class attributes"
      ],
      "metadata": {
        "id": "ugsEbuMrDGC3"
      }
    },
    {
      "cell_type": "markdown",
      "source": [
        "answer14:-polymorphism allows for more flexibility and generic code for objects of diiferent types to be treated uniformly"
      ],
      "metadata": {
        "id": "5PSSXJJpDged"
      }
    },
    {
      "cell_type": "markdown",
      "source": [
        "answer 15:- an abstract class is a class that cannot be instantained and is designed to be inherited by other classes"
      ],
      "metadata": {
        "id": "GTTuqlDeD6ZT"
      }
    },
    {
      "cell_type": "markdown",
      "source": [
        "answer 16:-oop promotes code resuability and easy maintenance .it helps in modeling real world scenarios and improves the overall structure of the code"
      ],
      "metadata": {
        "id": "H8XPQKBNEPQj"
      }
    },
    {
      "cell_type": "markdown",
      "source": [
        "answer 17:-a class variable is shared by all instances of a class,while an isnatnce variable is unique to each instance"
      ],
      "metadata": {
        "id": "twg5db-QEsUr"
      }
    },
    {
      "cell_type": "markdown",
      "source": [
        "answer 18:-multiple inheritance allows a class to inherit from more than one superclass,combinig their attrubutes and methods"
      ],
      "metadata": {
        "id": "_iKzNPm3FA5E"
      }
    },
    {
      "cell_type": "markdown",
      "source": [
        "answer 19:-the __str__ method returns a string representation of an object\n",
        "__repr__ returns more formal representation that can be used to recreate the object"
      ],
      "metadata": {
        "id": "5BF4yN3eFsrF"
      }
    },
    {
      "cell_type": "markdown",
      "source": [
        "answer20:- the super() function is used to access the methods and propertiesof a parent class in a child class ,allowing for code reuse and facilitating inheritance"
      ],
      "metadata": {
        "id": "KVliuxZIGMSX"
      }
    },
    {
      "cell_type": "markdown",
      "source": [
        "answer 21:-the __del__ method is a specila method that is called when an object is about to be destroyed allowing for cleanup"
      ],
      "metadata": {
        "id": "6JvqaOD_Gkk_"
      }
    },
    {
      "cell_type": "markdown",
      "source": [
        "answer 22:-@staticmethod is used to define a method that belongs to a class rather than an instances\n",
        "@classmethod is used to define a method that is bound to the class and can access class variable"
      ],
      "metadata": {
        "id": "LuaN_PytG1i-"
      }
    },
    {
      "cell_type": "markdown",
      "source": [
        "answer23:-polymorphism allows object of different classes to be treated as object of a common superclass, giving more flexibilty and generic code"
      ],
      "metadata": {
        "id": "OooogFAKHPci"
      }
    },
    {
      "cell_type": "markdown",
      "source": [
        "answer 24:-method chaining is a technique where multiple methods are callled on an object in a single statement"
      ],
      "metadata": {
        "id": "OBoxX1QCHoxi"
      }
    },
    {
      "cell_type": "markdown",
      "source": [
        "answer25:-the __call__ method makes an object callable allowing it to be used as a function"
      ],
      "metadata": {
        "id": "SZdhGrIeH8i8"
      }
    },
    {
      "cell_type": "code",
      "source": [
        "#practical answers\n"
      ],
      "metadata": {
        "id": "ooJqVkLE-IIh"
      },
      "execution_count": null,
      "outputs": []
    },
    {
      "cell_type": "code",
      "source": [
        "#answer1:-\n",
        "class animal\n",
        "def speak(self)\n",
        "print(\"generic animal sound\")\n",
        "\n",
        "class dog(animal):\n",
        "  def speak(self):\n",
        "    print(\"bark!\")\n"
      ],
      "metadata": {
        "id": "u4Jc1b-OInh6"
      },
      "execution_count": null,
      "outputs": []
    },
    {
      "cell_type": "code",
      "source": [
        "#answer 2:-\n",
        "import math\n",
        "\n",
        "class shape(ABC):\n",
        "@abstractmethod\n",
        "def area(self):\n",
        "   pass\n",
        "\n",
        "class circle(shape):\n",
        "  def __init__(self, radius):\n",
        "\n",
        "    def area(self):\n",
        "      retuen math.pi * (self, radius ** 2)\n",
        "\n",
        "class rectangle(shape)\n",
        "def __init__(self, length, width):\n",
        "  self.length = length\n",
        "  self.width = width\n",
        "\n",
        "  def area(self):\n",
        "    return self.length * self.width"
      ],
      "metadata": {
        "id": "ot7auYptJMj6"
      },
      "execution_count": null,
      "outputs": []
    },
    {
      "cell_type": "code",
      "source": [
        "#answer 3:-\n",
        "class vehicle:\n",
        "  def __init__(self,type):\n",
        "    self.type = type\n",
        "\n",
        "class car(vehicle):\n",
        "   def __init__(self,type,brand):\n",
        "    self.brand = brand\n",
        "\n",
        "class electriccar(car):\n",
        "   def __init__(self,type,brand,batterycapacity):\n",
        "    super().__init__(type,brand)\n",
        "    self.batterycapacity = batterycapacity\n",
        "\n",
        "\n"
      ],
      "metadata": {
        "id": "2B7OdTsRKkme"
      },
      "execution_count": null,
      "outputs": []
    },
    {
      "cell_type": "code",
      "source": [
        "# answer4:-\n",
        "class bird:\n",
        "  def fly(self):\n",
        "  print(\"bird is flying\")\n",
        "\n",
        "class sparrow(bird):\n",
        "  def fly(self):\n",
        "    print(\"sparrow is flying\")\n",
        "\n",
        "class penguin(bird):\n",
        "  def fly(self):\n",
        "    print(\"penguin cannot fly\")\n"
      ],
      "metadata": {
        "id": "IlrWlN7kLolR"
      },
      "execution_count": null,
      "outputs": []
    },
    {
      "cell_type": "code",
      "source": [
        "#answer 5:-\n",
        "class bankaccount:\n",
        "  def __init__(self,balance+0):\n",
        "    self.balance = balance\n",
        "\n",
        "  def deposit(self,amount):\n",
        "    self.balance += amount\n",
        "\n",
        "  def withdraw(self,amount):\n",
        "    if amount > self.balance:\n",
        "      print(\"insufficient balance\")\n",
        "    else:\n",
        "      self.balance -= amount\n",
        "\n",
        "      def getbalance(self):\n",
        "        return self.balance"
      ],
      "metadata": {
        "id": "hbal7cOiMJGw"
      },
      "execution_count": null,
      "outputs": []
    },
    {
      "cell_type": "code",
      "source": [
        "#answer 6:-\n",
        "class instrument:\n",
        "  def play(self):\n",
        "    print(\"instrument is playing\")\n",
        "\n",
        "class piano(instrument):\n",
        "  def play(self):\n",
        "    print(\"piano is playing\")\n",
        "\n",
        "class guitar(instrument):\n",
        "  def play(self):\n",
        "    print(\"guitar is playing\")"
      ],
      "metadata": {
        "id": "T5F3gc1jMoY7"
      },
      "execution_count": null,
      "outputs": []
    },
    {
      "cell_type": "code",
      "source": [
        "#answer 7:-\n",
        "class mathoperations:\n",
        "  @classmethod\n",
        "  def add(cls,a,b):\n",
        "    return a + b\n",
        "\n",
        "  @staticmethod\n",
        "  def subtract(a,b):\n",
        "    return a - b"
      ],
      "metadata": {
        "id": "TT2RvhUsMzIN"
      },
      "execution_count": null,
      "outputs": []
    },
    {
      "cell_type": "code",
      "source": [
        "#answer8:-\n",
        "class person:\n",
        "  count = 0\n",
        "\n",
        "  def __init__(self):\n",
        "    person.count += 1\n",
        "\n",
        "  @classmethod\n",
        "  def getcount(cls):\n",
        "    return person.count"
      ],
      "metadata": {
        "id": "XKXiml_NNKK8"
      },
      "execution_count": null,
      "outputs": []
    },
    {
      "cell_type": "code",
      "source": [
        "#answer9 :-\n",
        "class fraction:\n",
        "  def __init__(self,numerator,denominator):\n",
        "    self.numerator = numerator\n",
        "    self.denominator = denominator\n",
        "    def __str__(self):\n",
        "    return f\"{self.numerator}/{self.denominator}\""
      ],
      "metadata": {
        "colab": {
          "base_uri": "https://localhost:8080/",
          "height": 106
        },
        "id": "1ncFaVf8Noub",
        "outputId": "fecce0f2-3398-46e9-d87f-98192ca66e29"
      },
      "execution_count": 1,
      "outputs": [
        {
          "output_type": "error",
          "ename": "SyntaxError",
          "evalue": "incomplete input (<ipython-input-1-bf75bde49b09>, line 2)",
          "traceback": [
            "\u001b[0;36m  File \u001b[0;32m\"<ipython-input-1-bf75bde49b09>\"\u001b[0;36m, line \u001b[0;32m2\u001b[0m\n\u001b[0;31m    class fraction:\u001b[0m\n\u001b[0m                   ^\u001b[0m\n\u001b[0;31mSyntaxError\u001b[0m\u001b[0;31m:\u001b[0m incomplete input\n"
          ]
        }
      ]
    },
    {
      "cell_type": "code",
      "source": [
        "#answer 10:-\n",
        "class vector:\n",
        "  def __init__(self,x,y):\n",
        "    self.x = x\n",
        "    self.y = y\n",
        "\n",
        "def __add__(self,other):\n",
        "  return vector(self.x + other.x, self.y + other.y)\n",
        "  def __str__(self):\n",
        "    return f\"({self.x},{self.y})\"\n"
      ],
      "metadata": {
        "colab": {
          "base_uri": "https://localhost:8080/",
          "height": 106
        },
        "id": "mPOdxm38N3Ni",
        "outputId": "e22751aa-3ac2-4545-aea5-c305aea7a3fc"
      },
      "execution_count": 2,
      "outputs": [
        {
          "output_type": "error",
          "ename": "SyntaxError",
          "evalue": "incomplete input (<ipython-input-2-95546f426241>, line 7)",
          "traceback": [
            "\u001b[0;36m  File \u001b[0;32m\"<ipython-input-2-95546f426241>\"\u001b[0;36m, line \u001b[0;32m7\u001b[0m\n\u001b[0;31m    def __add__(self,other):\u001b[0m\n\u001b[0m                                ^\u001b[0m\n\u001b[0;31mSyntaxError\u001b[0m\u001b[0;31m:\u001b[0m incomplete input\n"
          ]
        }
      ]
    },
    {
      "cell_type": "code",
      "source": [
        "#answer`11:-\n",
        "class person:\n",
        "  def __init__(self,name,age):\n",
        "    self.name = name\n",
        "    self.age = age\n",
        "\n",
        "  def __str__(self):\n",
        "    print(f\"hello ,my name is {self.name} and i am {self.age}years old.\")"
      ],
      "metadata": {
        "id": "6Y_y3XJ6ORI9"
      },
      "execution_count": null,
      "outputs": []
    },
    {
      "cell_type": "markdown",
      "source": [],
      "metadata": {
        "id": "1uxMFHMBOtsD"
      }
    },
    {
      "cell_type": "code",
      "source": [
        "#answer12:-\n",
        "class student:\n",
        "  def __init__(self,name,grades):\n",
        "    self.name = name\n",
        "    self.grades = grades\n",
        "\n",
        "  def averagegrade(self):\n",
        "    return sum(self.grades)/len(self.grades)"
      ],
      "metadata": {
        "id": "VGN6HBK_Ot9z"
      },
      "execution_count": null,
      "outputs": []
    },
    {
      "cell_type": "code",
      "source": [],
      "metadata": {
        "id": "iIviukhzLnje"
      },
      "execution_count": null,
      "outputs": []
    },
    {
      "cell_type": "code",
      "source": [
        "#answer13:-\n",
        "class rectangle:\n",
        "  def __init__(self):\n",
        "    self.length = 0\n",
        "    self.width = 0\n",
        "\n",
        "    def set_length(self,length):\n",
        "    self.length = length\n",
        "\n",
        "  def set_width(self,width):\n",
        "    self.width = width\n",
        "\n",
        "  def area(self):\n",
        "    return self.length * self.width\n",
        "\n",
        "  def perimeter(self):\n",
        "    return 2 * (self.length + self.width)"
      ],
      "metadata": {
        "id": "sZgCYtm4O50Y"
      },
      "execution_count": null,
      "outputs": []
    },
    {
      "cell_type": "code",
      "source": [
        "#answer 14:-\n",
        "class employee:\n",
        "  def __init__(self,name,salary):\n",
        "    self.name = name\n",
        "    self.salary = salary\n",
        "\n",
        "  def give_raise(self,amount):\n",
        "    self.salary += amount"
      ],
      "metadata": {
        "id": "AUN7jfaUPPkj"
      },
      "execution_count": null,
      "outputs": []
    },
    {
      "cell_type": "code",
      "source": [
        "#answer 15:-\n",
        "class product:\n",
        "  def __init__(self,name,price,quantity):\n",
        "    self.name = name\n",
        "    self.price = price\n",
        "    self.quantity = quantity\n",
        "\n",
        "  def total_cost(self):\n",
        "    return self.price * self.quantity"
      ],
      "metadata": {
        "id": "Anh-fdl9PYZr"
      },
      "execution_count": null,
      "outputs": []
    },
    {
      "cell_type": "code",
      "source": [
        "#answer 16:-\n",
        "class animal(ABC):\n",
        "  @abstractmethod\n",
        "  def make_sound(self):\n",
        "    pass\n",
        "\n",
        "class cow(animal):\n",
        "  def make_sound(self):\n",
        "    print(\"moo!\")\n",
        "\n",
        "class sheep(animal):\n",
        "  def make_sound(self):\n",
        "    print(\"baa!\")"
      ],
      "metadata": {
        "id": "W4fmwOtEPu3-"
      },
      "execution_count": null,
      "outputs": []
    },
    {
      "cell_type": "code",
      "source": [
        "#answer 17:-\n",
        "class book:\n",
        "  def __init__(self,title,author,published_year):\n",
        "    self.title = title\n",
        "    self.author = author\n",
        "    self.published_year = published_year\n",
        "    def __str__(self):\n",
        "    return f\"{self.title} by {self.author} ({self.published_year})\""
      ],
      "metadata": {
        "id": "RXRHgf3kQFLG"
      },
      "execution_count": null,
      "outputs": []
    },
    {
      "cell_type": "code",
      "source": [
        "#answer18:-\n",
        "class house:\n",
        "  def __init__(self,address,price):\n",
        "    self.address = address\n",
        "    self.price = price\n",
        "\n",
        "    class mansion(house):\n",
        "      def __init__(self,address,price,number_of_rooms):\n",
        "        super().__init__(address,price)\n",
        "        self.number_of_room = number_of_rooms"
      ],
      "metadata": {
        "id": "OgA_ryvfQS0B"
      },
      "execution_count": null,
      "outputs": []
    },
    {
      "cell_type": "code",
      "source": [],
      "metadata": {
        "id": "U0a9q62DQJBb"
      },
      "execution_count": null,
      "outputs": []
    }
  ]
}